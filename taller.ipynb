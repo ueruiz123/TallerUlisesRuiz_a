def sumar(a, b):
    return a + b
print(sumar(2, 3))
